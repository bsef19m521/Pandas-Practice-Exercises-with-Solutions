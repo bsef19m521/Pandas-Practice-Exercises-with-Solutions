{
 "cells": [
  {
   "cell_type": "markdown",
   "id": "3ee7c668",
   "metadata": {},
   "source": [
    "##  Write a Pandas program to create and display a one-dimensional array-like object containing an array of data using Pandas module."
   ]
  },
  {
   "cell_type": "code",
   "execution_count": 14,
   "id": "14329724",
   "metadata": {},
   "outputs": [
    {
     "data": {
      "text/plain": [
       "array([91, 12, 39, 31, 27, 27, 44, 27])"
      ]
     },
     "execution_count": 14,
     "metadata": {},
     "output_type": "execute_result"
    }
   ],
   "source": [
    "# creational of one dimensional array is \n",
    "import numpy as np\n",
    "import pandas as pd\n",
    "OneDarray= np.random.randint(low= 10,high=100, size=8)\n",
    "OneDarray"
   ]
  },
  {
   "cell_type": "code",
   "execution_count": 16,
   "id": "3c5f5ca6",
   "metadata": {},
   "outputs": [
    {
     "data": {
      "text/plain": [
       "0    91\n",
       "1    12\n",
       "2    39\n",
       "3    31\n",
       "4    27\n",
       "5    27\n",
       "6    44\n",
       "7    27\n",
       "dtype: int64"
      ]
     },
     "execution_count": 16,
     "metadata": {},
     "output_type": "execute_result"
    }
   ],
   "source": [
    "# creation of DataSeries from 1-D array\n",
    "series = pd.Series(OneDarray)\n",
    "series"
   ]
  },
  {
   "cell_type": "code",
   "execution_count": null,
   "id": "756cd717",
   "metadata": {},
   "outputs": [],
   "source": []
  },
  {
   "cell_type": "markdown",
   "id": "be1547f9",
   "metadata": {},
   "source": [
    "## Write a Pandas program to convert a Panda module Series to Python list and it's type."
   ]
  },
  {
   "cell_type": "code",
   "execution_count": 17,
   "id": "e6606765",
   "metadata": {},
   "outputs": [
    {
     "data": {
      "text/plain": [
       "0    91\n",
       "1    12\n",
       "2    39\n",
       "3    31\n",
       "4    27\n",
       "5    27\n",
       "6    44\n",
       "7    27\n",
       "dtype: int64"
      ]
     },
     "execution_count": 17,
     "metadata": {},
     "output_type": "execute_result"
    }
   ],
   "source": [
    "# From the above example\n",
    "series\n",
    "# this is a pandas series object"
   ]
  },
  {
   "cell_type": "code",
   "execution_count": null,
   "id": "631b0b42",
   "metadata": {},
   "outputs": [],
   "source": [
    "# to convert pandas series object into python list object , we will use python built-in list function\n",
    "list1 = list(series)\n",
    "print(\"List : \", list1)\n",
    "print(\"Type of the list is : \")"
   ]
  }
 ],
 "metadata": {
  "kernelspec": {
   "display_name": "Python 3 (ipykernel)",
   "language": "python",
   "name": "python3"
  },
  "language_info": {
   "codemirror_mode": {
    "name": "ipython",
    "version": 3
   },
   "file_extension": ".py",
   "mimetype": "text/x-python",
   "name": "python",
   "nbconvert_exporter": "python",
   "pygments_lexer": "ipython3",
   "version": "3.8.10"
  }
 },
 "nbformat": 4,
 "nbformat_minor": 5
}
