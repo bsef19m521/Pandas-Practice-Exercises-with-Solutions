{
 "cells": [
  {
   "cell_type": "markdown",
   "id": "1a28f675",
   "metadata": {},
   "source": [
    "##  Write a Pandas program to create and display a one-dimensional array-like object containing an array of data using Pandas module."
   ]
  },
  {
   "cell_type": "code",
   "execution_count": 14,
   "id": "bd27d3a5",
   "metadata": {},
   "outputs": [
    {
     "data": {
      "text/plain": [
       "array([91, 12, 39, 31, 27, 27, 44, 27])"
      ]
     },
     "execution_count": 14,
     "metadata": {},
     "output_type": "execute_result"
    }
   ],
   "source": [
    "# creational of one dimensional array is \n",
    "import numpy as np\n",
    "import pandas as pd\n",
    "OneDarray= np.random.randint(low= 10,high=100, size=8)\n",
    "OneDarray"
   ]
  },
  {
   "cell_type": "code",
   "execution_count": 16,
   "id": "9e361751",
   "metadata": {},
   "outputs": [
    {
     "data": {
      "text/plain": [
       "0    91\n",
       "1    12\n",
       "2    39\n",
       "3    31\n",
       "4    27\n",
       "5    27\n",
       "6    44\n",
       "7    27\n",
       "dtype: int64"
      ]
     },
     "execution_count": 16,
     "metadata": {},
     "output_type": "execute_result"
    }
   ],
   "source": [
    "# creation of DataSeries from 1-D array\n",
    "series = pd.Series(OneDarray)\n",
    "series"
   ]
  },
  {
   "cell_type": "code",
   "execution_count": null,
   "id": "795b94b5",
   "metadata": {},
   "outputs": [],
   "source": []
  },
  {
   "cell_type": "markdown",
   "id": "dd8d8cc6",
   "metadata": {},
   "source": [
    "## Write a Pandas program to convert a Panda module Series to Python list and it's type."
   ]
  },
  {
   "cell_type": "code",
   "execution_count": 17,
   "id": "a29fb299",
   "metadata": {},
   "outputs": [
    {
     "data": {
      "text/plain": [
       "0    91\n",
       "1    12\n",
       "2    39\n",
       "3    31\n",
       "4    27\n",
       "5    27\n",
       "6    44\n",
       "7    27\n",
       "dtype: int64"
      ]
     },
     "execution_count": 17,
     "metadata": {},
     "output_type": "execute_result"
    }
   ],
   "source": [
    "# From the above example\n",
    "series\n",
    "# this is a pandas series object"
   ]
  },
  {
   "cell_type": "code",
   "execution_count": 18,
   "id": "c8dd0c5a",
   "metadata": {},
   "outputs": [
    {
     "name": "stdout",
     "output_type": "stream",
     "text": [
      "List :  [91, 12, 39, 31, 27, 27, 44, 27]\n",
      "Type of the list1 object is :  <class 'list'>\n"
     ]
    }
   ],
   "source": [
    "# to convert pandas series object into python list object , we will use python built-in list function\n",
    "list1 = list(series)\n",
    "print(\"List : \", list1)\n",
    "print(\"Type of the list1 object is : \", type(list1))"
   ]
  },
  {
   "cell_type": "code",
   "execution_count": null,
   "id": "ab3ade10",
   "metadata": {},
   "outputs": [],
   "source": []
  },
  {
   "cell_type": "markdown",
   "id": "47a863b3",
   "metadata": {},
   "source": [
    "## Write a Pandas program to add, subtract, multiple and divide two Pandas Series. \n",
    "- Sample Series: [2, 4, 6, 8, 10], [1, 3, 5, 7, 9]"
   ]
  },
  {
   "cell_type": "code",
   "execution_count": 19,
   "id": "54c11c00",
   "metadata": {},
   "outputs": [],
   "source": [
    "s1 = pd.Series([2,4,6,8,10])\n",
    "s2 = pd.Series([1,3,5,7,9])\n"
   ]
  },
  {
   "cell_type": "code",
   "execution_count": 21,
   "id": "a0d94dbc",
   "metadata": {},
   "outputs": [
    {
     "name": "stdout",
     "output_type": "stream",
     "text": [
      "Addition : \n",
      "0     3\n",
      "1     7\n",
      "2    11\n",
      "3    15\n",
      "4    19\n",
      "dtype: int64\n"
     ]
    }
   ],
   "source": [
    "print(\"Addition : \", s1+s2, sep=\"\\n\")"
   ]
  },
  {
   "cell_type": "code",
   "execution_count": null,
   "id": "29825e74",
   "metadata": {},
   "outputs": [],
   "source": []
  }
 ],
 "metadata": {
  "kernelspec": {
   "display_name": "Python 3 (ipykernel)",
   "language": "python",
   "name": "python3"
  },
  "language_info": {
   "codemirror_mode": {
    "name": "ipython",
    "version": 3
   },
   "file_extension": ".py",
   "mimetype": "text/x-python",
   "name": "python",
   "nbconvert_exporter": "python",
   "pygments_lexer": "ipython3",
   "version": "3.8.10"
  }
 },
 "nbformat": 4,
 "nbformat_minor": 5
}
