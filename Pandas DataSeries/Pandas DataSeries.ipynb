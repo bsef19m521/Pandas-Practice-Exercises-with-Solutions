{
 "cells": [
  {
   "cell_type": "markdown",
   "id": "8f7e0569",
   "metadata": {},
   "source": [
    "##  Write a Pandas program to create and display a one-dimensional array-like object containing an array of data using Pandas module."
   ]
  },
  {
   "cell_type": "code",
   "execution_count": 14,
   "id": "ff902464",
   "metadata": {},
   "outputs": [
    {
     "data": {
      "text/plain": [
       "array([91, 12, 39, 31, 27, 27, 44, 27])"
      ]
     },
     "execution_count": 14,
     "metadata": {},
     "output_type": "execute_result"
    }
   ],
   "source": [
    "# creational of one dimensional array is \n",
    "import numpy as np\n",
    "import pandas as pd\n",
    "OneDarray= np.random.randint(low= 10,high=100, size=8)\n",
    "OneDarray"
   ]
  },
  {
   "cell_type": "code",
   "execution_count": null,
   "id": "a17e74ed",
   "metadata": {},
   "outputs": [],
   "source": [
    "# creation of DataSeries from 1-D array\n",
    "series = pd.Series(OneDarray,name=)"
   ]
  },
  {
   "cell_type": "code",
   "execution_count": null,
   "id": "fd7a29ec",
   "metadata": {},
   "outputs": [],
   "source": []
  }
 ],
 "metadata": {
  "kernelspec": {
   "display_name": "Python 3 (ipykernel)",
   "language": "python",
   "name": "python3"
  },
  "language_info": {
   "codemirror_mode": {
    "name": "ipython",
    "version": 3
   },
   "file_extension": ".py",
   "mimetype": "text/x-python",
   "name": "python",
   "nbconvert_exporter": "python",
   "pygments_lexer": "ipython3",
   "version": "3.8.10"
  }
 },
 "nbformat": 4,
 "nbformat_minor": 5
}
