{
 "cells": [
  {
   "cell_type": "markdown",
   "id": "535cc4c3",
   "metadata": {},
   "source": [
    "##  Write a Pandas program to create and display a one-dimensional array-like object containing an array of data using Pandas module."
   ]
  },
  {
   "cell_type": "code",
   "execution_count": 14,
   "id": "1a924653",
   "metadata": {},
   "outputs": [
    {
     "data": {
      "text/plain": [
       "array([91, 12, 39, 31, 27, 27, 44, 27])"
      ]
     },
     "execution_count": 14,
     "metadata": {},
     "output_type": "execute_result"
    }
   ],
   "source": [
    "# creational of one dimensional array is \n",
    "import numpy as np\n",
    "import pandas as pd\n",
    "OneDarray= np.random.randint(low= 10,high=100, size=8)\n",
    "OneDarray"
   ]
  },
  {
   "cell_type": "code",
   "execution_count": 16,
   "id": "8302af47",
   "metadata": {},
   "outputs": [
    {
     "data": {
      "text/plain": [
       "0    91\n",
       "1    12\n",
       "2    39\n",
       "3    31\n",
       "4    27\n",
       "5    27\n",
       "6    44\n",
       "7    27\n",
       "dtype: int64"
      ]
     },
     "execution_count": 16,
     "metadata": {},
     "output_type": "execute_result"
    }
   ],
   "source": [
    "# creation of DataSeries from 1-D array\n",
    "series = pd.Series(OneDarray)\n",
    "series"
   ]
  },
  {
   "cell_type": "code",
   "execution_count": null,
   "id": "f9d4ee9a",
   "metadata": {},
   "outputs": [],
   "source": []
  },
  {
   "cell_type": "markdown",
   "id": "18b9f3ec",
   "metadata": {},
   "source": [
    "## Write a Pandas program to convert a Panda module Series to Python list and it's type."
   ]
  },
  {
   "cell_type": "code",
   "execution_count": 17,
   "id": "0d0a08db",
   "metadata": {},
   "outputs": [
    {
     "data": {
      "text/plain": [
       "0    91\n",
       "1    12\n",
       "2    39\n",
       "3    31\n",
       "4    27\n",
       "5    27\n",
       "6    44\n",
       "7    27\n",
       "dtype: int64"
      ]
     },
     "execution_count": 17,
     "metadata": {},
     "output_type": "execute_result"
    }
   ],
   "source": [
    "# From the above example\n",
    "series\n",
    "# this is a pandas series object"
   ]
  },
  {
   "cell_type": "code",
   "execution_count": 18,
   "id": "5a29adc8",
   "metadata": {},
   "outputs": [
    {
     "name": "stdout",
     "output_type": "stream",
     "text": [
      "List :  [91, 12, 39, 31, 27, 27, 44, 27]\n",
      "Type of the list1 object is :  <class 'list'>\n"
     ]
    }
   ],
   "source": [
    "# to convert pandas series object into python list object , we will use python built-in list function\n",
    "list1 = list(series)\n",
    "print(\"List : \", list1)\n",
    "print(\"Type of the list1 object is : \", type(list1))"
   ]
  },
  {
   "cell_type": "code",
   "execution_count": null,
   "id": "b45bec0f",
   "metadata": {},
   "outputs": [],
   "source": []
  },
  {
   "cell_type": "markdown",
   "id": "5d0bed06",
   "metadata": {},
   "source": [
    "## Write a Pandas program to add, subtract, multiple and divide two Pandas Series. \n",
    "- Sample Series: [2, 4, 6, 8, 10], [1, 3, 5, 7, 9]"
   ]
  },
  {
   "cell_type": "code",
   "execution_count": 19,
   "id": "e0d25067",
   "metadata": {},
   "outputs": [],
   "source": [
    "s1 = pd.Series([2,4,6,8,10])\n",
    "s2 = pd.Series([1,3,5,7,9])\n"
   ]
  },
  {
   "cell_type": "code",
   "execution_count": 23,
   "id": "e9cfcfc8",
   "metadata": {},
   "outputs": [
    {
     "name": "stdout",
     "output_type": "stream",
     "text": [
      "Addition : \n",
      "0     3\n",
      "1     7\n",
      "2    11\n",
      "3    15\n",
      "4    19\n",
      "dtype: int64\n",
      "\n",
      "\n",
      "\n",
      "Subtraction : \n",
      "0    1\n",
      "1    1\n",
      "2    1\n",
      "3    1\n",
      "4    1\n",
      "dtype: int64\n",
      "\n",
      "\n",
      "\n",
      "Multiplication : \n",
      "0     2\n",
      "1    12\n",
      "2    30\n",
      "3    56\n",
      "4    90\n",
      "dtype: int64\n",
      "\n",
      "\n",
      "\n",
      "Division : \n",
      "0    2.000000\n",
      "1    1.333333\n",
      "2    1.200000\n",
      "3    1.142857\n",
      "4    1.111111\n",
      "dtype: float64\n",
      "\n",
      "\n",
      "\n"
     ]
    }
   ],
   "source": [
    "print(\"Addition : \", s1+s2, sep=\"\\n\")\n",
    "print(\"\\n\\n\")\n",
    "print(\"Subtraction : \", s1-s2, sep=\"\\n\")\n",
    "print(\"\\n\\n\")\n",
    "print(\"Multiplication : \", s1*s2, sep=\"\\n\")\n",
    "print(\"\\n\\n\")\n",
    "print(\"Division : \", s1/s2, sep=\"\\n\")\n",
    "print(\"\\n\\n\")"
   ]
  },
  {
   "cell_type": "code",
   "execution_count": null,
   "id": "06d1ef4c",
   "metadata": {},
   "outputs": [],
   "source": []
  },
  {
   "cell_type": "markdown",
   "id": "046fe559",
   "metadata": {},
   "source": [
    "## Write a Pandas program to compare the elements of the two Pandas Series.\n",
    "- Sample Series: [2, 4, 6, 8, 10], [1, 3, 5, 7, 10]"
   ]
  },
  {
   "cell_type": "code",
   "execution_count": 27,
   "id": "8f433e08",
   "metadata": {},
   "outputs": [
    {
     "name": "stdout",
     "output_type": "stream",
     "text": [
      "Series1 :  \n",
      "0     2\n",
      "1     4\n",
      "2     6\n",
      "3     8\n",
      "4    10\n",
      "dtype: int64\n",
      "Series2 :  \n",
      "0     1\n",
      "1     3\n",
      "2     5\n",
      "3     7\n",
      "4    10\n",
      "dtype: int64\n"
     ]
    }
   ],
   "source": [
    "s2 = pd.Series([1, 3, 5, 7, 10])\n",
    "print(\"Series1 :  \", s1, sep=\"\\n\")\n",
    "print(\"Series2 :  \", s2, sep=\"\\n\")"
   ]
  },
  {
   "cell_type": "code",
   "execution_count": 28,
   "id": "f13f42a7",
   "metadata": {},
   "outputs": [
    {
     "name": "stdout",
     "output_type": "stream",
     "text": [
      "Comparing elements of the both series! \n",
      "Equal Operation!\n",
      "0    False\n",
      "1    False\n",
      "2    False\n",
      "3    False\n",
      "4     True\n",
      "dtype: bool\n"
     ]
    }
   ],
   "source": [
    "print(\"Comparing elements of the both series! \")\n",
    "print(\"Equal Operation!\")\n",
    "print(s1==s2)"
   ]
  },
  {
   "cell_type": "code",
   "execution_count": 29,
   "id": "7c9fd9e8",
   "metadata": {},
   "outputs": [
    {
     "name": "stdout",
     "output_type": "stream",
     "text": [
      "Greater Operation\n",
      "0     True\n",
      "1     True\n",
      "2     True\n",
      "3     True\n",
      "4    False\n",
      "dtype: bool\n"
     ]
    }
   ],
   "source": [
    "print(\"Greater Operation\")\n",
    "print(s1>s2)"
   ]
  },
  {
   "cell_type": "code",
   "execution_count": 30,
   "id": "6c4f5c7f",
   "metadata": {},
   "outputs": [
    {
     "name": "stdout",
     "output_type": "stream",
     "text": [
      "Smaller Operation\n",
      "0    False\n",
      "1    False\n",
      "2    False\n",
      "3    False\n",
      "4    False\n",
      "dtype: bool\n"
     ]
    }
   ],
   "source": [
    "print(\"Smaller Operation\")\n",
    "print(s1<s2)"
   ]
  },
  {
   "cell_type": "code",
   "execution_count": null,
   "id": "548368f1",
   "metadata": {},
   "outputs": [],
   "source": []
  }
 ],
 "metadata": {
  "kernelspec": {
   "display_name": "Python 3 (ipykernel)",
   "language": "python",
   "name": "python3"
  },
  "language_info": {
   "codemirror_mode": {
    "name": "ipython",
    "version": 3
   },
   "file_extension": ".py",
   "mimetype": "text/x-python",
   "name": "python",
   "nbconvert_exporter": "python",
   "pygments_lexer": "ipython3",
   "version": "3.8.10"
  }
 },
 "nbformat": 4,
 "nbformat_minor": 5
}
